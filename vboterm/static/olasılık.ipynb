{
 "cells": [
  {
   "cell_type": "code",
   "execution_count": 1,
   "id": "2bca1ae2-2e8b-4fcd-ba3b-dcb23ecb44f0",
   "metadata": {},
   "outputs": [],
   "source": [
    "import numpy as np\n",
    "import pandas as pd\n",
    "import seaborn as sns"
   ]
  },
  {
   "cell_type": "code",
   "execution_count": 2,
   "id": "87d9b122-d1f6-4079-8cb4-4bd9832e0d51",
   "metadata": {},
   "outputs": [],
   "source": [
    "from scipy.stats import bernoulli"
   ]
  },
  {
   "cell_type": "code",
   "execution_count": 3,
   "id": "8ad7b3e4-fffe-494a-b794-04578dd598ec",
   "metadata": {},
   "outputs": [],
   "source": [
    "p = 0.6"
   ]
  },
  {
   "cell_type": "code",
   "execution_count": 5,
   "id": "54ef5590-d244-4cea-add4-b77c0fda596a",
   "metadata": {},
   "outputs": [
    {
     "data": {
      "text/plain": [
       "0.4"
      ]
     },
     "execution_count": 5,
     "metadata": {},
     "output_type": "execute_result"
    }
   ],
   "source": [
    "rv = bernoulli(p)\n",
    "rv.pmf(k = 0)"
   ]
  },
  {
   "cell_type": "markdown",
   "id": "9e2d7d0b-8532-43c1-a11b-e9c704fecde6",
   "metadata": {},
   "source": [
    "bearnoulli iki olasılıktan birinin olması olasılığıdır"
   ]
  },
  {
   "cell_type": "code",
   "execution_count": null,
   "id": "9cc0ab3c-4d2d-4bdf-bbad-a4980d858d2e",
   "metadata": {},
   "outputs": [],
   "source": []
  }
 ],
 "metadata": {
  "kernelspec": {
   "display_name": "Python 3 (ipykernel)",
   "language": "python",
   "name": "python3"
  },
  "language_info": {
   "codemirror_mode": {
    "name": "ipython",
    "version": 3
   },
   "file_extension": ".py",
   "mimetype": "text/x-python",
   "name": "python",
   "nbconvert_exporter": "python",
   "pygments_lexer": "ipython3",
   "version": "3.9.12"
  }
 },
 "nbformat": 4,
 "nbformat_minor": 5
}
