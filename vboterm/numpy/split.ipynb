{
 "cells": [
  {
   "cell_type": "code",
   "execution_count": 1,
   "id": "1bc48766-1372-4a93-9194-e3120ea6e490",
   "metadata": {},
   "outputs": [],
   "source": [
    "import numpy as np"
   ]
  },
  {
   "cell_type": "code",
   "execution_count": 2,
   "id": "271f370d-115e-4d07-9bcd-47baa072e71a",
   "metadata": {},
   "outputs": [],
   "source": [
    "x = np.array([1,2,4,57,76,74,3])"
   ]
  },
  {
   "cell_type": "code",
   "execution_count": 4,
   "id": "2bae1250-65e7-4c09-a4e1-8d0f94615893",
   "metadata": {},
   "outputs": [
    {
     "data": {
      "text/plain": [
       "array([1, 2, 4])"
      ]
     },
     "execution_count": 4,
     "metadata": {},
     "output_type": "execute_result"
    }
   ],
   "source": [
    "a,b,c = np.split(x,[3,5])\n",
    "a"
   ]
  },
  {
   "cell_type": "code",
   "execution_count": 5,
   "id": "adc2ac7e-0174-4b5b-8e6e-7fcefa7d2d86",
   "metadata": {},
   "outputs": [
    {
     "data": {
      "text/plain": [
       "array([57, 76])"
      ]
     },
     "execution_count": 5,
     "metadata": {},
     "output_type": "execute_result"
    }
   ],
   "source": [
    "b"
   ]
  },
  {
   "cell_type": "code",
   "execution_count": 6,
   "id": "829c671a-9546-41e0-a71c-bed63b9725a5",
   "metadata": {},
   "outputs": [
    {
     "data": {
      "text/plain": [
       "array([74,  3])"
      ]
     },
     "execution_count": 6,
     "metadata": {},
     "output_type": "execute_result"
    }
   ],
   "source": [
    "c"
   ]
  },
  {
   "cell_type": "code",
   "execution_count": 8,
   "id": "3686b856-275e-461b-adb3-4e26a3ea20c8",
   "metadata": {},
   "outputs": [],
   "source": [
    "x = np.array([[1,2,4,57,76,74,3], [3,42,5,22,33,4,56]])"
   ]
  },
  {
   "cell_type": "code",
   "execution_count": 22,
   "id": "70b876de-9a80-498c-a846-88d9717fa643",
   "metadata": {},
   "outputs": [],
   "source": [
    "a,b = np.vsplit(x, [1])"
   ]
  },
  {
   "cell_type": "code",
   "execution_count": 23,
   "id": "ccea427f-59aa-4fd9-b7bd-109e3bda0bbd",
   "metadata": {},
   "outputs": [
    {
     "data": {
      "text/plain": [
       "array([[ 1,  2,  4, 57, 76, 74,  3]])"
      ]
     },
     "execution_count": 23,
     "metadata": {},
     "output_type": "execute_result"
    }
   ],
   "source": [
    "a"
   ]
  },
  {
   "cell_type": "code",
   "execution_count": 24,
   "id": "423e7f5a-c408-4395-9220-1fa16a52fb45",
   "metadata": {},
   "outputs": [
    {
     "data": {
      "text/plain": [
       "array([[ 3, 42,  5, 22, 33,  4, 56]])"
      ]
     },
     "execution_count": 24,
     "metadata": {},
     "output_type": "execute_result"
    }
   ],
   "source": [
    "b"
   ]
  },
  {
   "cell_type": "code",
   "execution_count": 25,
   "id": "f9f09172-28a0-473a-bccb-7451e2f1ba11",
   "metadata": {},
   "outputs": [],
   "source": [
    "a,b = np.hsplit(x, [3])"
   ]
  },
  {
   "cell_type": "code",
   "execution_count": 26,
   "id": "fd4362f4-95d7-480b-b770-cd38ded3388c",
   "metadata": {},
   "outputs": [
    {
     "data": {
      "text/plain": [
       "array([[ 1,  2,  4],\n",
       "       [ 3, 42,  5]])"
      ]
     },
     "execution_count": 26,
     "metadata": {},
     "output_type": "execute_result"
    }
   ],
   "source": [
    "a"
   ]
  },
  {
   "cell_type": "code",
   "execution_count": 27,
   "id": "e6c0dd17-911b-4d9d-8180-60e969fca8c8",
   "metadata": {},
   "outputs": [
    {
     "data": {
      "text/plain": [
       "array([[57, 76, 74,  3],\n",
       "       [22, 33,  4, 56]])"
      ]
     },
     "execution_count": 27,
     "metadata": {},
     "output_type": "execute_result"
    }
   ],
   "source": [
    "b"
   ]
  }
 ],
 "metadata": {
  "kernelspec": {
   "display_name": "Python 3 (ipykernel)",
   "language": "python",
   "name": "python3"
  },
  "language_info": {
   "codemirror_mode": {
    "name": "ipython",
    "version": 3
   },
   "file_extension": ".py",
   "mimetype": "text/x-python",
   "name": "python",
   "nbconvert_exporter": "python",
   "pygments_lexer": "ipython3",
   "version": "3.9.12"
  }
 },
 "nbformat": 4,
 "nbformat_minor": 5
}
