{
 "cells": [
  {
   "cell_type": "markdown",
   "id": "7c8c7816-0a92-4053-9b4c-7f9ee8fc5677",
   "metadata": {},
   "source": [
    "# number generation tecniques"
   ]
  },
  {
   "cell_type": "code",
   "execution_count": 1,
   "id": "3a379cea-2c01-417c-a3cd-bffeb95e51fe",
   "metadata": {},
   "outputs": [],
   "source": [
    "import numpy as np"
   ]
  },
  {
   "cell_type": "code",
   "execution_count": 7,
   "id": "3c7cdc0c-03e0-4144-8a9d-07c343a29307",
   "metadata": {},
   "outputs": [
    {
     "data": {
      "text/plain": [
       "array([[0, 0, 0, 0, 0, 0, 0, 0, 0, 0]])"
      ]
     },
     "execution_count": 7,
     "metadata": {},
     "output_type": "execute_result"
    }
   ],
   "source": [
    "np.zeros((1,10),dtype = int)"
   ]
  },
  {
   "cell_type": "code",
   "execution_count": 8,
   "id": "820facdc-f4ce-4ee9-bb22-7a1b5b987fac",
   "metadata": {},
   "outputs": [
    {
     "data": {
      "text/plain": [
       "array([[1, 1, 1, 1],\n",
       "       [1, 1, 1, 1]])"
      ]
     },
     "execution_count": 8,
     "metadata": {},
     "output_type": "execute_result"
    }
   ],
   "source": [
    "np.ones((2,4), dtype = int)"
   ]
  },
  {
   "cell_type": "markdown",
   "id": "afb72f89-43c8-4956-87f6-68c22dacc60a",
   "metadata": {},
   "source": [
    "We created a matrix consisting of 2 rows and 4 columns which is can change to int with dtype argument."
   ]
  },
  {
   "cell_type": "code",
   "execution_count": 9,
   "id": "32fe7ad0-7897-42c5-96ce-281c617ecab2",
   "metadata": {},
   "outputs": [
    {
     "data": {
      "text/plain": [
       "array([[3, 3, 3, 3, 3],\n",
       "       [3, 3, 3, 3, 3],\n",
       "       [3, 3, 3, 3, 3]])"
      ]
     },
     "execution_count": 9,
     "metadata": {},
     "output_type": "execute_result"
    }
   ],
   "source": [
    "np.full((3,5),3)"
   ]
  },
  {
   "cell_type": "code",
   "execution_count": 13,
   "id": "9ef81aea-4aa3-4ba3-8af5-9c44c0e3fd2b",
   "metadata": {},
   "outputs": [
    {
     "data": {
      "text/plain": [
       "array([ 0,  3,  6,  9, 12, 15, 18, 21, 24, 27])"
      ]
     },
     "execution_count": 13,
     "metadata": {},
     "output_type": "execute_result"
    }
   ],
   "source": [
    "np.arange(0,30,3)"
   ]
  },
  {
   "cell_type": "code",
   "execution_count": 14,
   "id": "8b28f531-8d69-44d5-a43a-b1abaa718b92",
   "metadata": {},
   "outputs": [
    {
     "data": {
      "text/plain": [
       "array([0.        , 0.11111111, 0.22222222, 0.33333333, 0.44444444,\n",
       "       0.55555556, 0.66666667, 0.77777778, 0.88888889, 1.        ])"
      ]
     },
     "execution_count": 14,
     "metadata": {},
     "output_type": "execute_result"
    }
   ],
   "source": [
    "np.linspace(0,1,10)"
   ]
  },
  {
   "cell_type": "code",
   "execution_count": 16,
   "id": "835978c5-22e3-479a-82f7-3ddce8c9e9ee",
   "metadata": {},
   "outputs": [
    {
     "data": {
      "text/plain": [
       "array([[2, 1, 1],\n",
       "       [1, 5, 3],\n",
       "       [9, 8, 1]])"
      ]
     },
     "execution_count": 16,
     "metadata": {},
     "output_type": "execute_result"
    }
   ],
   "source": [
    "np.random.randint(0,10,(3,3))"
   ]
  },
  {
   "cell_type": "code",
   "execution_count": 17,
   "id": "4f063307-9e10-4653-876d-3df88e42a652",
   "metadata": {},
   "outputs": [
    {
     "data": {
      "text/plain": [
       "array([[ 8.79979886, 14.79269331,  7.83909639],\n",
       "       [ 6.68079845, 11.40555416, 10.12984291],\n",
       "       [12.26211427,  9.54051635, 14.34977518]])"
      ]
     },
     "execution_count": 17,
     "metadata": {},
     "output_type": "execute_result"
    }
   ],
   "source": [
    "np.random.normal(10,4,(3,3))"
   ]
  },
  {
   "cell_type": "markdown",
   "id": "a00e6cae-826c-42e8-af07-1f0b911bd9a9",
   "metadata": {},
   "source": [
    "ortalaması 10 standart sapması 4 olan 3 3 bir matrix luşturduk"
   ]
  },
  {
   "cell_type": "code",
   "execution_count": null,
   "id": "4f467dc9-e0e7-4d27-b2f9-9c2e2e2bbf5b",
   "metadata": {},
   "outputs": [],
   "source": []
  }
 ],
 "metadata": {
  "kernelspec": {
   "display_name": "Python 3 (ipykernel)",
   "language": "python",
   "name": "python3"
  },
  "language_info": {
   "codemirror_mode": {
    "name": "ipython",
    "version": 3
   },
   "file_extension": ".py",
   "mimetype": "text/x-python",
   "name": "python",
   "nbconvert_exporter": "python",
   "pygments_lexer": "ipython3",
   "version": "3.9.12"
  }
 },
 "nbformat": 4,
 "nbformat_minor": 5
}
