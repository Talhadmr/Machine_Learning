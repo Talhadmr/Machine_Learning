{
 "cells": [
  {
   "cell_type": "code",
   "execution_count": 1,
   "id": "4922e734-8006-4b51-aec2-6c5ddaba97c7",
   "metadata": {},
   "outputs": [],
   "source": [
    "import numpy as np"
   ]
  },
  {
   "cell_type": "code",
   "execution_count": 5,
   "id": "27d0f51d-b309-43bd-aaab-2fa8eb092bd1",
   "metadata": {},
   "outputs": [
    {
     "data": {
      "text/plain": [
       "array([8, 4, 5, 3, 0])"
      ]
     },
     "execution_count": 5,
     "metadata": {},
     "output_type": "execute_result"
    }
   ],
   "source": [
    "v = np.random.randint(0,10,5)\n",
    "v"
   ]
  },
  {
   "cell_type": "code",
   "execution_count": 6,
   "id": "704e3e30-13fe-40bd-9f72-8c1a6265d145",
   "metadata": {},
   "outputs": [
    {
     "data": {
      "text/plain": [
       "array([0, 3, 4, 5, 8])"
      ]
     },
     "execution_count": 6,
     "metadata": {},
     "output_type": "execute_result"
    }
   ],
   "source": [
    "np.sort(v)"
   ]
  },
  {
   "cell_type": "code",
   "execution_count": 7,
   "id": "76960d8b-40aa-4e86-90ec-ba40ccf3d31a",
   "metadata": {},
   "outputs": [
    {
     "data": {
      "text/plain": [
       "array([8, 4, 5, 3, 0])"
      ]
     },
     "execution_count": 7,
     "metadata": {},
     "output_type": "execute_result"
    }
   ],
   "source": [
    "v"
   ]
  },
  {
   "cell_type": "code",
   "execution_count": 8,
   "id": "d721fe56-1526-4b91-8309-68e8140ecb4b",
   "metadata": {},
   "outputs": [],
   "source": [
    "v.sort()"
   ]
  },
  {
   "cell_type": "code",
   "execution_count": 9,
   "id": "9cd010f7-b824-421e-abf4-9c3af93e6b19",
   "metadata": {},
   "outputs": [
    {
     "data": {
      "text/plain": [
       "array([0, 3, 4, 5, 8])"
      ]
     },
     "execution_count": 9,
     "metadata": {},
     "output_type": "execute_result"
    }
   ],
   "source": [
    "v"
   ]
  },
  {
   "cell_type": "code",
   "execution_count": 11,
   "id": "fdc5a8b1-8876-40af-a80c-6a8f07c15d28",
   "metadata": {},
   "outputs": [
    {
     "data": {
      "text/plain": [
       "array([[20.10254131, 11.59306592, 12.45765337],\n",
       "       [ 8.46353855, 15.10088603, 25.09589782],\n",
       "       [15.37999793, 16.34190648, 18.39512541]])"
      ]
     },
     "execution_count": 11,
     "metadata": {},
     "output_type": "execute_result"
    }
   ],
   "source": [
    "m =np.random.normal(20,5, (3,3))\n",
    "m\n"
   ]
  },
  {
   "cell_type": "code",
   "execution_count": 13,
   "id": "641d009f-a4cc-454f-97c3-95b0e001f4ca",
   "metadata": {},
   "outputs": [
    {
     "data": {
      "text/plain": [
       "array([[11.59306592, 12.45765337, 20.10254131],\n",
       "       [ 8.46353855, 15.10088603, 25.09589782],\n",
       "       [15.37999793, 16.34190648, 18.39512541]])"
      ]
     },
     "execution_count": 13,
     "metadata": {},
     "output_type": "execute_result"
    }
   ],
   "source": [
    "np.sort(m, axis = 1)"
   ]
  },
  {
   "cell_type": "markdown",
   "id": "349b7dee-8c75-46c0-a765-1b495301ca66",
   "metadata": {},
   "source": [
    "satırları kendi içinde sıraladı"
   ]
  },
  {
   "cell_type": "code",
   "execution_count": 14,
   "id": "87cb0740-6405-410f-bf92-713829ef18fd",
   "metadata": {},
   "outputs": [
    {
     "data": {
      "text/plain": [
       "array([[ 8.46353855, 11.59306592, 12.45765337],\n",
       "       [15.37999793, 15.10088603, 18.39512541],\n",
       "       [20.10254131, 16.34190648, 25.09589782]])"
      ]
     },
     "execution_count": 14,
     "metadata": {},
     "output_type": "execute_result"
    }
   ],
   "source": [
    "np.sort(m, axis = 0)"
   ]
  },
  {
   "cell_type": "markdown",
   "id": "98790edb-dc9b-456a-930f-d85b3c0d6194",
   "metadata": {},
   "source": [
    "sütunları sıraladı"
   ]
  },
  {
   "cell_type": "code",
   "execution_count": null,
   "id": "cb5273e5-1d30-460e-a5d9-8f1610d3dc97",
   "metadata": {},
   "outputs": [],
   "source": []
  }
 ],
 "metadata": {
  "kernelspec": {
   "display_name": "Python 3 (ipykernel)",
   "language": "python",
   "name": "python3"
  },
  "language_info": {
   "codemirror_mode": {
    "name": "ipython",
    "version": 3
   },
   "file_extension": ".py",
   "mimetype": "text/x-python",
   "name": "python",
   "nbconvert_exporter": "python",
   "pygments_lexer": "ipython3",
   "version": "3.9.12"
  }
 },
 "nbformat": 4,
 "nbformat_minor": 5
}
