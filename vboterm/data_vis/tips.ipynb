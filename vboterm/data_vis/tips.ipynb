{
 "cells": [
  {
   "cell_type": "code",
   "execution_count": 2,
   "id": "2fa5fcae-c679-4509-9e0d-d2710f9af7b2",
   "metadata": {},
   "outputs": [],
   "source": [
    "import numpy as np\n",
    "import pandas as pd\n",
    "import seaborn as sns"
   ]
  },
  {
   "cell_type": "code",
   "execution_count": 3,
   "id": "1c2cd0d2-826a-4165-b86a-b2652308901c",
   "metadata": {},
   "outputs": [],
   "source": [
    "df = sns.load_dataset(\"tips\")"
   ]
  },
  {
   "cell_type": "code",
   "execution_count": 4,
   "id": "e37abe89-8d45-41bd-9bb8-9564d04bdeb6",
   "metadata": {},
   "outputs": [
    {
     "name": "stdout",
     "output_type": "stream",
     "text": [
      "<class 'pandas.core.frame.DataFrame'>\n"
     ]
    }
   ],
   "source": [
    "print(type(df))"
   ]
  },
  {
   "cell_type": "code",
   "execution_count": 5,
   "id": "2a589542-3097-436b-8538-8371985f28c3",
   "metadata": {},
   "outputs": [
    {
     "data": {
      "text/html": [
       "<div>\n",
       "<style scoped>\n",
       "    .dataframe tbody tr th:only-of-type {\n",
       "        vertical-align: middle;\n",
       "    }\n",
       "\n",
       "    .dataframe tbody tr th {\n",
       "        vertical-align: top;\n",
       "    }\n",
       "\n",
       "    .dataframe thead th {\n",
       "        text-align: right;\n",
       "    }\n",
       "</style>\n",
       "<table border=\"1\" class=\"dataframe\">\n",
       "  <thead>\n",
       "    <tr style=\"text-align: right;\">\n",
       "      <th></th>\n",
       "      <th>total_bill</th>\n",
       "      <th>tip</th>\n",
       "      <th>sex</th>\n",
       "      <th>smoker</th>\n",
       "      <th>day</th>\n",
       "      <th>time</th>\n",
       "      <th>size</th>\n",
       "    </tr>\n",
       "  </thead>\n",
       "  <tbody>\n",
       "    <tr>\n",
       "      <th>0</th>\n",
       "      <td>16.99</td>\n",
       "      <td>1.01</td>\n",
       "      <td>Female</td>\n",
       "      <td>No</td>\n",
       "      <td>Sun</td>\n",
       "      <td>Dinner</td>\n",
       "      <td>2</td>\n",
       "    </tr>\n",
       "    <tr>\n",
       "      <th>1</th>\n",
       "      <td>10.34</td>\n",
       "      <td>1.66</td>\n",
       "      <td>Male</td>\n",
       "      <td>No</td>\n",
       "      <td>Sun</td>\n",
       "      <td>Dinner</td>\n",
       "      <td>3</td>\n",
       "    </tr>\n",
       "    <tr>\n",
       "      <th>2</th>\n",
       "      <td>21.01</td>\n",
       "      <td>3.50</td>\n",
       "      <td>Male</td>\n",
       "      <td>No</td>\n",
       "      <td>Sun</td>\n",
       "      <td>Dinner</td>\n",
       "      <td>3</td>\n",
       "    </tr>\n",
       "    <tr>\n",
       "      <th>3</th>\n",
       "      <td>23.68</td>\n",
       "      <td>3.31</td>\n",
       "      <td>Male</td>\n",
       "      <td>No</td>\n",
       "      <td>Sun</td>\n",
       "      <td>Dinner</td>\n",
       "      <td>2</td>\n",
       "    </tr>\n",
       "    <tr>\n",
       "      <th>4</th>\n",
       "      <td>24.59</td>\n",
       "      <td>3.61</td>\n",
       "      <td>Female</td>\n",
       "      <td>No</td>\n",
       "      <td>Sun</td>\n",
       "      <td>Dinner</td>\n",
       "      <td>4</td>\n",
       "    </tr>\n",
       "  </tbody>\n",
       "</table>\n",
       "</div>"
      ],
      "text/plain": [
       "   total_bill   tip     sex smoker  day    time  size\n",
       "0       16.99  1.01  Female     No  Sun  Dinner     2\n",
       "1       10.34  1.66    Male     No  Sun  Dinner     3\n",
       "2       21.01  3.50    Male     No  Sun  Dinner     3\n",
       "3       23.68  3.31    Male     No  Sun  Dinner     2\n",
       "4       24.59  3.61  Female     No  Sun  Dinner     4"
      ]
     },
     "execution_count": 5,
     "metadata": {},
     "output_type": "execute_result"
    }
   ],
   "source": [
    "df.head()"
   ]
  },
  {
   "cell_type": "code",
   "execution_count": 7,
   "id": "4e550fb5-07ae-4039-8efe-b91f2695f53f",
   "metadata": {},
   "outputs": [
    {
     "data": {
      "text/html": [
       "<div>\n",
       "<style scoped>\n",
       "    .dataframe tbody tr th:only-of-type {\n",
       "        vertical-align: middle;\n",
       "    }\n",
       "\n",
       "    .dataframe tbody tr th {\n",
       "        vertical-align: top;\n",
       "    }\n",
       "\n",
       "    .dataframe thead th {\n",
       "        text-align: right;\n",
       "    }\n",
       "</style>\n",
       "<table border=\"1\" class=\"dataframe\">\n",
       "  <thead>\n",
       "    <tr style=\"text-align: right;\">\n",
       "      <th></th>\n",
       "      <th>count</th>\n",
       "      <th>mean</th>\n",
       "      <th>std</th>\n",
       "      <th>min</th>\n",
       "      <th>25%</th>\n",
       "      <th>50%</th>\n",
       "      <th>75%</th>\n",
       "      <th>max</th>\n",
       "    </tr>\n",
       "  </thead>\n",
       "  <tbody>\n",
       "    <tr>\n",
       "      <th>total_bill</th>\n",
       "      <td>244.0</td>\n",
       "      <td>19.785943</td>\n",
       "      <td>8.902412</td>\n",
       "      <td>3.07</td>\n",
       "      <td>13.3475</td>\n",
       "      <td>17.795</td>\n",
       "      <td>24.1275</td>\n",
       "      <td>50.81</td>\n",
       "    </tr>\n",
       "    <tr>\n",
       "      <th>tip</th>\n",
       "      <td>244.0</td>\n",
       "      <td>2.998279</td>\n",
       "      <td>1.383638</td>\n",
       "      <td>1.00</td>\n",
       "      <td>2.0000</td>\n",
       "      <td>2.900</td>\n",
       "      <td>3.5625</td>\n",
       "      <td>10.00</td>\n",
       "    </tr>\n",
       "    <tr>\n",
       "      <th>size</th>\n",
       "      <td>244.0</td>\n",
       "      <td>2.569672</td>\n",
       "      <td>0.951100</td>\n",
       "      <td>1.00</td>\n",
       "      <td>2.0000</td>\n",
       "      <td>2.000</td>\n",
       "      <td>3.0000</td>\n",
       "      <td>6.00</td>\n",
       "    </tr>\n",
       "  </tbody>\n",
       "</table>\n",
       "</div>"
      ],
      "text/plain": [
       "            count       mean       std   min      25%     50%      75%    max\n",
       "total_bill  244.0  19.785943  8.902412  3.07  13.3475  17.795  24.1275  50.81\n",
       "tip         244.0   2.998279  1.383638  1.00   2.0000   2.900   3.5625  10.00\n",
       "size        244.0   2.569672  0.951100  1.00   2.0000   2.000   3.0000   6.00"
      ]
     },
     "execution_count": 7,
     "metadata": {},
     "output_type": "execute_result"
    }
   ],
   "source": [
    "df.describe().T"
   ]
  },
  {
   "cell_type": "code",
   "execution_count": 8,
   "id": "ee84be67-b2eb-42d4-9c3c-5d53b2a9da03",
   "metadata": {},
   "outputs": [
    {
     "data": {
      "text/plain": [
       "Male      157\n",
       "Female     87\n",
       "Name: sex, dtype: int64"
      ]
     },
     "execution_count": 8,
     "metadata": {},
     "output_type": "execute_result"
    }
   ],
   "source": [
    "df.sex.value_counts()"
   ]
  },
  {
   "cell_type": "code",
   "execution_count": 9,
   "id": "8371aebe-bc5e-470c-884d-e9fe4d8256d0",
   "metadata": {},
   "outputs": [
    {
     "data": {
      "text/plain": [
       "No     151\n",
       "Yes     93\n",
       "Name: smoker, dtype: int64"
      ]
     },
     "execution_count": 9,
     "metadata": {},
     "output_type": "execute_result"
    }
   ],
   "source": [
    "df.smoker.value_counts()"
   ]
  },
  {
   "cell_type": "code",
   "execution_count": 10,
   "id": "7908f0e8-b952-4e51-9dbc-94ea15f67cb8",
   "metadata": {},
   "outputs": [
    {
     "data": {
      "text/plain": [
       "Sat     87\n",
       "Sun     76\n",
       "Thur    62\n",
       "Fri     19\n",
       "Name: day, dtype: int64"
      ]
     },
     "execution_count": 10,
     "metadata": {},
     "output_type": "execute_result"
    }
   ],
   "source": [
    "df.day.value_counts()"
   ]
  },
  {
   "cell_type": "code",
   "execution_count": 11,
   "id": "d4f151ff-5eea-46a2-881b-4c05d9f22201",
   "metadata": {
    "collapsed": true,
    "jupyter": {
     "outputs_hidden": true
    },
    "tags": []
   },
   "outputs": [
    {
     "data": {
      "text/plain": [
       "\u001b[1;31mSignature:\u001b[0m\n",
       "\u001b[0msns\u001b[0m\u001b[1;33m.\u001b[0m\u001b[0mboxplot\u001b[0m\u001b[1;33m(\u001b[0m\u001b[1;33m\n",
       "\u001b[0m    \u001b[1;33m*\u001b[0m\u001b[1;33m,\u001b[0m\u001b[1;33m\n",
       "\u001b[0m    \u001b[0mx\u001b[0m\u001b[1;33m=\u001b[0m\u001b[1;32mNone\u001b[0m\u001b[1;33m,\u001b[0m\u001b[1;33m\n",
       "\u001b[0m    \u001b[0my\u001b[0m\u001b[1;33m=\u001b[0m\u001b[1;32mNone\u001b[0m\u001b[1;33m,\u001b[0m\u001b[1;33m\n",
       "\u001b[0m    \u001b[0mhue\u001b[0m\u001b[1;33m=\u001b[0m\u001b[1;32mNone\u001b[0m\u001b[1;33m,\u001b[0m\u001b[1;33m\n",
       "\u001b[0m    \u001b[0mdata\u001b[0m\u001b[1;33m=\u001b[0m\u001b[1;32mNone\u001b[0m\u001b[1;33m,\u001b[0m\u001b[1;33m\n",
       "\u001b[0m    \u001b[0morder\u001b[0m\u001b[1;33m=\u001b[0m\u001b[1;32mNone\u001b[0m\u001b[1;33m,\u001b[0m\u001b[1;33m\n",
       "\u001b[0m    \u001b[0mhue_order\u001b[0m\u001b[1;33m=\u001b[0m\u001b[1;32mNone\u001b[0m\u001b[1;33m,\u001b[0m\u001b[1;33m\n",
       "\u001b[0m    \u001b[0morient\u001b[0m\u001b[1;33m=\u001b[0m\u001b[1;32mNone\u001b[0m\u001b[1;33m,\u001b[0m\u001b[1;33m\n",
       "\u001b[0m    \u001b[0mcolor\u001b[0m\u001b[1;33m=\u001b[0m\u001b[1;32mNone\u001b[0m\u001b[1;33m,\u001b[0m\u001b[1;33m\n",
       "\u001b[0m    \u001b[0mpalette\u001b[0m\u001b[1;33m=\u001b[0m\u001b[1;32mNone\u001b[0m\u001b[1;33m,\u001b[0m\u001b[1;33m\n",
       "\u001b[0m    \u001b[0msaturation\u001b[0m\u001b[1;33m=\u001b[0m\u001b[1;36m0.75\u001b[0m\u001b[1;33m,\u001b[0m\u001b[1;33m\n",
       "\u001b[0m    \u001b[0mwidth\u001b[0m\u001b[1;33m=\u001b[0m\u001b[1;36m0.8\u001b[0m\u001b[1;33m,\u001b[0m\u001b[1;33m\n",
       "\u001b[0m    \u001b[0mdodge\u001b[0m\u001b[1;33m=\u001b[0m\u001b[1;32mTrue\u001b[0m\u001b[1;33m,\u001b[0m\u001b[1;33m\n",
       "\u001b[0m    \u001b[0mfliersize\u001b[0m\u001b[1;33m=\u001b[0m\u001b[1;36m5\u001b[0m\u001b[1;33m,\u001b[0m\u001b[1;33m\n",
       "\u001b[0m    \u001b[0mlinewidth\u001b[0m\u001b[1;33m=\u001b[0m\u001b[1;32mNone\u001b[0m\u001b[1;33m,\u001b[0m\u001b[1;33m\n",
       "\u001b[0m    \u001b[0mwhis\u001b[0m\u001b[1;33m=\u001b[0m\u001b[1;36m1.5\u001b[0m\u001b[1;33m,\u001b[0m\u001b[1;33m\n",
       "\u001b[0m    \u001b[0max\u001b[0m\u001b[1;33m=\u001b[0m\u001b[1;32mNone\u001b[0m\u001b[1;33m,\u001b[0m\u001b[1;33m\n",
       "\u001b[0m    \u001b[1;33m**\u001b[0m\u001b[0mkwargs\u001b[0m\u001b[1;33m,\u001b[0m\u001b[1;33m\n",
       "\u001b[0m\u001b[1;33m)\u001b[0m\u001b[1;33m\u001b[0m\u001b[1;33m\u001b[0m\u001b[0m\n",
       "\u001b[1;31mDocstring:\u001b[0m\n",
       "Draw a box plot to show distributions with respect to categories.\n",
       "\n",
       "A box plot (or box-and-whisker plot) shows the distribution of quantitative\n",
       "data in a way that facilitates comparisons between variables or across\n",
       "levels of a categorical variable. The box shows the quartiles of the\n",
       "dataset while the whiskers extend to show the rest of the distribution,\n",
       "except for points that are determined to be \"outliers\" using a method\n",
       "that is a function of the inter-quartile range.\n",
       "\n",
       "\n",
       "Input data can be passed in a variety of formats, including:\n",
       "\n",
       "- Vectors of data represented as lists, numpy arrays, or pandas Series\n",
       "  objects passed directly to the ``x``, ``y``, and/or ``hue`` parameters.\n",
       "- A \"long-form\" DataFrame, in which case the ``x``, ``y``, and ``hue``\n",
       "  variables will determine how the data are plotted.\n",
       "- A \"wide-form\" DataFrame, such that each numeric column will be plotted.\n",
       "- An array or list of vectors.\n",
       "\n",
       "In most cases, it is possible to use numpy or Python objects, but pandas\n",
       "objects are preferable because the associated names will be used to\n",
       "annotate the axes. Additionally, you can use Categorical types for the\n",
       "grouping variables to control the order of plot elements.    \n",
       "\n",
       "This function always treats one of the variables as categorical and\n",
       "draws data at ordinal positions (0, 1, ... n) on the relevant axis, even\n",
       "when the data has a numeric or date type.\n",
       "\n",
       "See the :ref:`tutorial <categorical_tutorial>` for more information.    \n",
       "\n",
       "Parameters\n",
       "----------\n",
       "x, y, hue : names of variables in ``data`` or vector data, optional\n",
       "    Inputs for plotting long-form data. See examples for interpretation.        \n",
       "data : DataFrame, array, or list of arrays, optional\n",
       "    Dataset for plotting. If ``x`` and ``y`` are absent, this is\n",
       "    interpreted as wide-form. Otherwise it is expected to be long-form.    \n",
       "order, hue_order : lists of strings, optional\n",
       "    Order to plot the categorical levels in, otherwise the levels are\n",
       "    inferred from the data objects.        \n",
       "orient : \"v\" | \"h\", optional\n",
       "    Orientation of the plot (vertical or horizontal). This is usually\n",
       "    inferred based on the type of the input variables, but it can be used\n",
       "    to resolve ambiguity when both `x` and `y` are numeric or when\n",
       "    plotting wide-form data.    \n",
       "color : matplotlib color, optional\n",
       "    Color for all of the elements, or seed for a gradient palette.    \n",
       "palette : palette name, list, or dict\n",
       "    Colors to use for the different levels of the ``hue`` variable. Should\n",
       "    be something that can be interpreted by :func:`color_palette`, or a\n",
       "    dictionary mapping hue levels to matplotlib colors.    \n",
       "saturation : float, optional\n",
       "    Proportion of the original saturation to draw colors at. Large patches\n",
       "    often look better with slightly desaturated colors, but set this to\n",
       "    ``1`` if you want the plot colors to perfectly match the input color\n",
       "    spec.    \n",
       "width : float, optional\n",
       "    Width of a full element when not using hue nesting, or width of all the\n",
       "    elements for one level of the major grouping variable.    \n",
       "dodge : bool, optional\n",
       "    When hue nesting is used, whether elements should be shifted along the\n",
       "    categorical axis.    \n",
       "fliersize : float, optional\n",
       "    Size of the markers used to indicate outlier observations.\n",
       "linewidth : float, optional\n",
       "    Width of the gray lines that frame the plot elements.    \n",
       "whis : float, optional\n",
       "    Proportion of the IQR past the low and high quartiles to extend the\n",
       "    plot whiskers. Points outside this range will be identified as\n",
       "    outliers.\n",
       "ax : matplotlib Axes, optional\n",
       "    Axes object to draw the plot onto, otherwise uses the current Axes.    \n",
       "kwargs : key, value mappings\n",
       "    Other keyword arguments are passed through to\n",
       "    :meth:`matplotlib.axes.Axes.boxplot`.\n",
       "\n",
       "Returns\n",
       "-------\n",
       "ax : matplotlib Axes\n",
       "    Returns the Axes object with the plot drawn onto it.    \n",
       "\n",
       "See Also\n",
       "--------\n",
       "violinplot : A combination of boxplot and kernel density estimation.    \n",
       "stripplot : A scatterplot where one variable is categorical. Can be used\n",
       "            in conjunction with other plots to show each observation.    \n",
       "swarmplot : A categorical scatterplot where the points do not overlap. Can\n",
       "            be used with other plots to show each observation.    \n",
       "catplot : Combine a categorical plot with a :class:`FacetGrid`.    \n",
       "\n",
       "Examples\n",
       "--------\n",
       "\n",
       "Draw a single horizontal boxplot:\n",
       "\n",
       ".. plot::\n",
       "    :context: close-figs\n",
       "\n",
       "    >>> import seaborn as sns\n",
       "    >>> sns.set_theme(style=\"whitegrid\")\n",
       "    >>> tips = sns.load_dataset(\"tips\")\n",
       "    >>> ax = sns.boxplot(x=tips[\"total_bill\"])\n",
       "\n",
       "Draw a vertical boxplot grouped by a categorical variable:\n",
       "\n",
       ".. plot::\n",
       "    :context: close-figs\n",
       "\n",
       "    >>> ax = sns.boxplot(x=\"day\", y=\"total_bill\", data=tips)\n",
       "\n",
       "Draw a boxplot with nested grouping by two categorical variables:\n",
       "\n",
       ".. plot::\n",
       "    :context: close-figs\n",
       "\n",
       "    >>> ax = sns.boxplot(x=\"day\", y=\"total_bill\", hue=\"smoker\",\n",
       "    ...                  data=tips, palette=\"Set3\")\n",
       "\n",
       "Draw a boxplot with nested grouping when some bins are empty:\n",
       "\n",
       ".. plot::\n",
       "    :context: close-figs\n",
       "\n",
       "    >>> ax = sns.boxplot(x=\"day\", y=\"total_bill\", hue=\"time\",\n",
       "    ...                  data=tips, linewidth=2.5)\n",
       "\n",
       "Control box order by passing an explicit order:\n",
       "\n",
       ".. plot::\n",
       "    :context: close-figs\n",
       "\n",
       "    >>> ax = sns.boxplot(x=\"time\", y=\"tip\", data=tips,\n",
       "    ...                  order=[\"Dinner\", \"Lunch\"])\n",
       "\n",
       "Draw a boxplot for each numeric variable in a DataFrame:\n",
       "\n",
       ".. plot::\n",
       "    :context: close-figs\n",
       "\n",
       "    >>> iris = sns.load_dataset(\"iris\")\n",
       "    >>> ax = sns.boxplot(data=iris, orient=\"h\", palette=\"Set2\")\n",
       "\n",
       "Use ``hue`` without changing box position or width:\n",
       "\n",
       ".. plot::\n",
       "    :context: close-figs\n",
       "\n",
       "    >>> tips[\"weekend\"] = tips[\"day\"].isin([\"Sat\", \"Sun\"])\n",
       "    >>> ax = sns.boxplot(x=\"day\", y=\"total_bill\", hue=\"weekend\",\n",
       "    ...                  data=tips, dodge=False)\n",
       "\n",
       "Use :func:`swarmplot` to show the datapoints on top of the boxes:\n",
       "\n",
       ".. plot::\n",
       "    :context: close-figs\n",
       "\n",
       "    >>> ax = sns.boxplot(x=\"day\", y=\"total_bill\", data=tips)\n",
       "    >>> ax = sns.swarmplot(x=\"day\", y=\"total_bill\", data=tips, color=\".25\")\n",
       "\n",
       "Use :func:`catplot` to combine a :func:`boxplot` and a\n",
       ":class:`FacetGrid`. This allows grouping within additional categorical\n",
       "variables. Using :func:`catplot` is safer than using :class:`FacetGrid`\n",
       "directly, as it ensures synchronization of variable order across facets:\n",
       "\n",
       ".. plot::\n",
       "    :context: close-figs\n",
       "\n",
       "    >>> g = sns.catplot(x=\"sex\", y=\"total_bill\",\n",
       "    ...                 hue=\"smoker\", col=\"time\",\n",
       "    ...                 data=tips, kind=\"box\",\n",
       "    ...                 height=4, aspect=.7);\n",
       "\u001b[1;31mFile:\u001b[0m      c:\\users\\talha\\anaconda3\\lib\\site-packages\\seaborn\\categorical.py\n",
       "\u001b[1;31mType:\u001b[0m      function\n"
      ]
     },
     "metadata": {},
     "output_type": "display_data"
    }
   ],
   "source": [
    "?sns.boxplot"
   ]
  },
  {
   "cell_type": "code",
   "execution_count": 12,
   "id": "41d8b7f6-9127-4eda-9258-5f7e3d8b0f09",
   "metadata": {},
   "outputs": [
    {
     "data": {
      "text/plain": [
       "<AxesSubplot:xlabel='day', ylabel='total_bill'>"
      ]
     },
     "execution_count": 12,
     "metadata": {},
     "output_type": "execute_result"
    },
    {
     "data": {
      "image/png": "[encoded data removed]",
      "text/plain": [
       "<Figure size 432x288 with 1 Axes>"
      ]
     },
     "metadata": {
      "needs_background": "light"
     },
     "output_type": "display_data"
    }
   ],
   "source": [
    "sns.boxplot(data = df, x = \"day\", y = \"total_bill\")"
   ]
  },
  {
   "cell_type": "code",
   "execution_count": 17,
   "id": "4bd2dad7-2129-4d4e-af11-40d60e02388c",
   "metadata": {},
   "outputs": [
    {
     "data": {
      "text/plain": [
       "<AxesSubplot:xlabel='sex', ylabel='tip'>"
      ]
     },
     "execution_count": 17,
     "metadata": {},
     "output_type": "execute_result"
    },
    {
     "data": {
      "image/png": "[encoded data removed]",
      "text/plain": [
       "<Figure size 432x288 with 1 Axes>"
      ]
     },
     "metadata": {
      "needs_background": "light"
     },
     "output_type": "display_data"
    }
   ],
   "source": [
    "sns.boxplot(data = df, x = \"sex\", y = \"tip\", hue =\"smoker\")"
   ]
  },
  {
   "cell_type": "code",
   "execution_count": 25,
   "id": "0d2debf2-de7f-4dcd-adad-f0afe506067a",
   "metadata": {},
   "outputs": [
    {
     "data": {
      "text/plain": [
       "<AxesSubplot:xlabel='total_bill', ylabel='tip'>"
      ]
     },
     "execution_count": 25,
     "metadata": {},
     "output_type": "execute_result"
    },
    {
     "data": {
      "image/png": "[encoded data removed]",
      "text/plain": [
       "<Figure size 432x288 with 1 Axes>"
      ]
     },
     "metadata": {
      "needs_background": "light"
     },
     "output_type": "display_data"
    }
   ],
   "source": [
    "sns.scatterplot(data = df, x = \"total_bill\", y = \"tip\",  hue = \"sex\")"
   ]
  },
  {
   "cell_type": "code",
   "execution_count": 26,
   "id": "b9b2a4b5-7bb5-40f2-ad75-c97b013cb3f4",
   "metadata": {
    "collapsed": true,
    "jupyter": {
     "outputs_hidden": true
    },
    "tags": []
   },
   "outputs": [
    {
     "data": {
      "text/plain": [
       "\u001b[1;31mSignature:\u001b[0m\n",
       "\u001b[0msns\u001b[0m\u001b[1;33m.\u001b[0m\u001b[0mlmplot\u001b[0m\u001b[1;33m(\u001b[0m\u001b[1;33m\n",
       "\u001b[0m    \u001b[1;33m*\u001b[0m\u001b[1;33m,\u001b[0m\u001b[1;33m\n",
       "\u001b[0m    \u001b[0mx\u001b[0m\u001b[1;33m=\u001b[0m\u001b[1;32mNone\u001b[0m\u001b[1;33m,\u001b[0m\u001b[1;33m\n",
       "\u001b[0m    \u001b[0my\u001b[0m\u001b[1;33m=\u001b[0m\u001b[1;32mNone\u001b[0m\u001b[1;33m,\u001b[0m\u001b[1;33m\n",
       "\u001b[0m    \u001b[0mdata\u001b[0m\u001b[1;33m=\u001b[0m\u001b[1;32mNone\u001b[0m\u001b[1;33m,\u001b[0m\u001b[1;33m\n",
       "\u001b[0m    \u001b[0mhue\u001b[0m\u001b[1;33m=\u001b[0m\u001b[1;32mNone\u001b[0m\u001b[1;33m,\u001b[0m\u001b[1;33m\n",
       "\u001b[0m    \u001b[0mcol\u001b[0m\u001b[1;33m=\u001b[0m\u001b[1;32mNone\u001b[0m\u001b[1;33m,\u001b[0m\u001b[1;33m\n",
       "\u001b[0m    \u001b[0mrow\u001b[0m\u001b[1;33m=\u001b[0m\u001b[1;32mNone\u001b[0m\u001b[1;33m,\u001b[0m\u001b[1;33m\n",
       "\u001b[0m    \u001b[0mpalette\u001b[0m\u001b[1;33m=\u001b[0m\u001b[1;32mNone\u001b[0m\u001b[1;33m,\u001b[0m\u001b[1;33m\n",
       "\u001b[0m    \u001b[0mcol_wrap\u001b[0m\u001b[1;33m=\u001b[0m\u001b[1;32mNone\u001b[0m\u001b[1;33m,\u001b[0m\u001b[1;33m\n",
       "\u001b[0m    \u001b[0mheight\u001b[0m\u001b[1;33m=\u001b[0m\u001b[1;36m5\u001b[0m\u001b[1;33m,\u001b[0m\u001b[1;33m\n",
       "\u001b[0m    \u001b[0maspect\u001b[0m\u001b[1;33m=\u001b[0m\u001b[1;36m1\u001b[0m\u001b[1;33m,\u001b[0m\u001b[1;33m\n",
       "\u001b[0m    \u001b[0mmarkers\u001b[0m\u001b[1;33m=\u001b[0m\u001b[1;34m'o'\u001b[0m\u001b[1;33m,\u001b[0m\u001b[1;33m\n",
       "\u001b[0m    \u001b[0msharex\u001b[0m\u001b[1;33m=\u001b[0m\u001b[1;32mNone\u001b[0m\u001b[1;33m,\u001b[0m\u001b[1;33m\n",
       "\u001b[0m    \u001b[0msharey\u001b[0m\u001b[1;33m=\u001b[0m\u001b[1;32mNone\u001b[0m\u001b[1;33m,\u001b[0m\u001b[1;33m\n",
       "\u001b[0m    \u001b[0mhue_order\u001b[0m\u001b[1;33m=\u001b[0m\u001b[1;32mNone\u001b[0m\u001b[1;33m,\u001b[0m\u001b[1;33m\n",
       "\u001b[0m    \u001b[0mcol_order\u001b[0m\u001b[1;33m=\u001b[0m\u001b[1;32mNone\u001b[0m\u001b[1;33m,\u001b[0m\u001b[1;33m\n",
       "\u001b[0m    \u001b[0mrow_order\u001b[0m\u001b[1;33m=\u001b[0m\u001b[1;32mNone\u001b[0m\u001b[1;33m,\u001b[0m\u001b[1;33m\n",
       "\u001b[0m    \u001b[0mlegend\u001b[0m\u001b[1;33m=\u001b[0m\u001b[1;32mTrue\u001b[0m\u001b[1;33m,\u001b[0m\u001b[1;33m\n",
       "\u001b[0m    \u001b[0mlegend_out\u001b[0m\u001b[1;33m=\u001b[0m\u001b[1;32mNone\u001b[0m\u001b[1;33m,\u001b[0m\u001b[1;33m\n",
       "\u001b[0m    \u001b[0mx_estimator\u001b[0m\u001b[1;33m=\u001b[0m\u001b[1;32mNone\u001b[0m\u001b[1;33m,\u001b[0m\u001b[1;33m\n",
       "\u001b[0m    \u001b[0mx_bins\u001b[0m\u001b[1;33m=\u001b[0m\u001b[1;32mNone\u001b[0m\u001b[1;33m,\u001b[0m\u001b[1;33m\n",
       "\u001b[0m    \u001b[0mx_ci\u001b[0m\u001b[1;33m=\u001b[0m\u001b[1;34m'ci'\u001b[0m\u001b[1;33m,\u001b[0m\u001b[1;33m\n",
       "\u001b[0m    \u001b[0mscatter\u001b[0m\u001b[1;33m=\u001b[0m\u001b[1;32mTrue\u001b[0m\u001b[1;33m,\u001b[0m\u001b[1;33m\n",
       "\u001b[0m    \u001b[0mfit_reg\u001b[0m\u001b[1;33m=\u001b[0m\u001b[1;32mTrue\u001b[0m\u001b[1;33m,\u001b[0m\u001b[1;33m\n",
       "\u001b[0m    \u001b[0mci\u001b[0m\u001b[1;33m=\u001b[0m\u001b[1;36m95\u001b[0m\u001b[1;33m,\u001b[0m\u001b[1;33m\n",
       "\u001b[0m    \u001b[0mn_boot\u001b[0m\u001b[1;33m=\u001b[0m\u001b[1;36m1000\u001b[0m\u001b[1;33m,\u001b[0m\u001b[1;33m\n",
       "\u001b[0m    \u001b[0munits\u001b[0m\u001b[1;33m=\u001b[0m\u001b[1;32mNone\u001b[0m\u001b[1;33m,\u001b[0m\u001b[1;33m\n",
       "\u001b[0m    \u001b[0mseed\u001b[0m\u001b[1;33m=\u001b[0m\u001b[1;32mNone\u001b[0m\u001b[1;33m,\u001b[0m\u001b[1;33m\n",
       "\u001b[0m    \u001b[0morder\u001b[0m\u001b[1;33m=\u001b[0m\u001b[1;36m1\u001b[0m\u001b[1;33m,\u001b[0m\u001b[1;33m\n",
       "\u001b[0m    \u001b[0mlogistic\u001b[0m\u001b[1;33m=\u001b[0m\u001b[1;32mFalse\u001b[0m\u001b[1;33m,\u001b[0m\u001b[1;33m\n",
       "\u001b[0m    \u001b[0mlowess\u001b[0m\u001b[1;33m=\u001b[0m\u001b[1;32mFalse\u001b[0m\u001b[1;33m,\u001b[0m\u001b[1;33m\n",
       "\u001b[0m    \u001b[0mrobust\u001b[0m\u001b[1;33m=\u001b[0m\u001b[1;32mFalse\u001b[0m\u001b[1;33m,\u001b[0m\u001b[1;33m\n",
       "\u001b[0m    \u001b[0mlogx\u001b[0m\u001b[1;33m=\u001b[0m\u001b[1;32mFalse\u001b[0m\u001b[1;33m,\u001b[0m\u001b[1;33m\n",
       "\u001b[0m    \u001b[0mx_partial\u001b[0m\u001b[1;33m=\u001b[0m\u001b[1;32mNone\u001b[0m\u001b[1;33m,\u001b[0m\u001b[1;33m\n",
       "\u001b[0m    \u001b[0my_partial\u001b[0m\u001b[1;33m=\u001b[0m\u001b[1;32mNone\u001b[0m\u001b[1;33m,\u001b[0m\u001b[1;33m\n",
       "\u001b[0m    \u001b[0mtruncate\u001b[0m\u001b[1;33m=\u001b[0m\u001b[1;32mTrue\u001b[0m\u001b[1;33m,\u001b[0m\u001b[1;33m\n",
       "\u001b[0m    \u001b[0mx_jitter\u001b[0m\u001b[1;33m=\u001b[0m\u001b[1;32mNone\u001b[0m\u001b[1;33m,\u001b[0m\u001b[1;33m\n",
       "\u001b[0m    \u001b[0my_jitter\u001b[0m\u001b[1;33m=\u001b[0m\u001b[1;32mNone\u001b[0m\u001b[1;33m,\u001b[0m\u001b[1;33m\n",
       "\u001b[0m    \u001b[0mscatter_kws\u001b[0m\u001b[1;33m=\u001b[0m\u001b[1;32mNone\u001b[0m\u001b[1;33m,\u001b[0m\u001b[1;33m\n",
       "\u001b[0m    \u001b[0mline_kws\u001b[0m\u001b[1;33m=\u001b[0m\u001b[1;32mNone\u001b[0m\u001b[1;33m,\u001b[0m\u001b[1;33m\n",
       "\u001b[0m    \u001b[0mfacet_kws\u001b[0m\u001b[1;33m=\u001b[0m\u001b[1;32mNone\u001b[0m\u001b[1;33m,\u001b[0m\u001b[1;33m\n",
       "\u001b[0m    \u001b[0msize\u001b[0m\u001b[1;33m=\u001b[0m\u001b[1;32mNone\u001b[0m\u001b[1;33m,\u001b[0m\u001b[1;33m\n",
       "\u001b[0m\u001b[1;33m)\u001b[0m\u001b[1;33m\u001b[0m\u001b[1;33m\u001b[0m\u001b[0m\n",
       "\u001b[1;31mDocstring:\u001b[0m\n",
       "Plot data and regression model fits across a FacetGrid.\n",
       "\n",
       "This function combines :func:`regplot` and :class:`FacetGrid`. It is\n",
       "intended as a convenient interface to fit regression models across\n",
       "conditional subsets of a dataset.\n",
       "\n",
       "When thinking about how to assign variables to different facets, a general\n",
       "rule is that it makes sense to use ``hue`` for the most important\n",
       "comparison, followed by ``col`` and ``row``. However, always think about\n",
       "your particular dataset and the goals of the visualization you are\n",
       "creating.\n",
       "\n",
       "There are a number of mutually exclusive options for estimating the\n",
       "regression model. See the :ref:`tutorial <regression_tutorial>` for more\n",
       "information.    \n",
       "\n",
       "The parameters to this function span most of the options in\n",
       ":class:`FacetGrid`, although there may be occasional cases where you will\n",
       "want to use that class and :func:`regplot` directly.\n",
       "\n",
       "Parameters\n",
       "----------\n",
       "x, y : strings, optional\n",
       "    Input variables; these should be column names in ``data``.\n",
       "data : DataFrame\n",
       "    Tidy (\"long-form\") dataframe where each column is a variable and each\n",
       "    row is an observation.    \n",
       "hue, col, row : strings\n",
       "    Variables that define subsets of the data, which will be drawn on\n",
       "    separate facets in the grid. See the ``*_order`` parameters to control\n",
       "    the order of levels of this variable.\n",
       "palette : palette name, list, or dict\n",
       "    Colors to use for the different levels of the ``hue`` variable. Should\n",
       "    be something that can be interpreted by :func:`color_palette`, or a\n",
       "    dictionary mapping hue levels to matplotlib colors.    \n",
       "col_wrap : int\n",
       "    \"Wrap\" the column variable at this width, so that the column facets\n",
       "    span multiple rows. Incompatible with a ``row`` facet.    \n",
       "height : scalar\n",
       "    Height (in inches) of each facet. See also: ``aspect``.    \n",
       "aspect : scalar\n",
       "    Aspect ratio of each facet, so that ``aspect * height`` gives the width\n",
       "    of each facet in inches.    \n",
       "markers : matplotlib marker code or list of marker codes, optional\n",
       "    Markers for the scatterplot. If a list, each marker in the list will be\n",
       "    used for each level of the ``hue`` variable.\n",
       "share{x,y} : bool, 'col', or 'row' optional\n",
       "    If true, the facets will share y axes across columns and/or x axes\n",
       "    across rows.    \n",
       "\n",
       "    .. deprecated:: 0.12.0\n",
       "        Pass using the `facet_kws` dictionary.\n",
       "\n",
       "{hue,col,row}_order : lists, optional\n",
       "    Order for the levels of the faceting variables. By default, this will\n",
       "    be the order that the levels appear in ``data`` or, if the variables\n",
       "    are pandas categoricals, the category order.\n",
       "legend : bool, optional\n",
       "    If ``True`` and there is a ``hue`` variable, add a legend.\n",
       "legend_out : bool\n",
       "    If ``True``, the figure size will be extended, and the legend will be\n",
       "    drawn outside the plot on the center right.    \n",
       "\n",
       "    .. deprecated:: 0.12.0\n",
       "        Pass using the `facet_kws` dictionary.\n",
       "\n",
       "x_estimator : callable that maps vector -> scalar, optional\n",
       "    Apply this function to each unique value of ``x`` and plot the\n",
       "    resulting estimate. This is useful when ``x`` is a discrete variable.\n",
       "    If ``x_ci`` is given, this estimate will be bootstrapped and a\n",
       "    confidence interval will be drawn.    \n",
       "x_bins : int or vector, optional\n",
       "    Bin the ``x`` variable into discrete bins and then estimate the central\n",
       "    tendency and a confidence interval. This binning only influences how\n",
       "    the scatterplot is drawn; the regression is still fit to the original\n",
       "    data.  This parameter is interpreted either as the number of\n",
       "    evenly-sized (not necessary spaced) bins or the positions of the bin\n",
       "    centers. When this parameter is used, it implies that the default of\n",
       "    ``x_estimator`` is ``numpy.mean``.    \n",
       "x_ci : \"ci\", \"sd\", int in [0, 100] or None, optional\n",
       "    Size of the confidence interval used when plotting a central tendency\n",
       "    for discrete values of ``x``. If ``\"ci\"``, defer to the value of the\n",
       "    ``ci`` parameter. If ``\"sd\"``, skip bootstrapping and show the\n",
       "    standard deviation of the observations in each bin.    \n",
       "scatter : bool, optional\n",
       "    If ``True``, draw a scatterplot with the underlying observations (or\n",
       "    the ``x_estimator`` values).    \n",
       "fit_reg : bool, optional\n",
       "    If ``True``, estimate and plot a regression model relating the ``x``\n",
       "    and ``y`` variables.    \n",
       "ci : int in [0, 100] or None, optional\n",
       "    Size of the confidence interval for the regression estimate. This will\n",
       "    be drawn using translucent bands around the regression line. The\n",
       "    confidence interval is estimated using a bootstrap; for large\n",
       "    datasets, it may be advisable to avoid that computation by setting\n",
       "    this parameter to None.    \n",
       "n_boot : int, optional\n",
       "    Number of bootstrap resamples used to estimate the ``ci``. The default\n",
       "    value attempts to balance time and stability; you may want to increase\n",
       "    this value for \"final\" versions of plots.    \n",
       "units : variable name in ``data``, optional\n",
       "    If the ``x`` and ``y`` observations are nested within sampling units,\n",
       "    those can be specified here. This will be taken into account when\n",
       "    computing the confidence intervals by performing a multilevel bootstrap\n",
       "    that resamples both units and observations (within unit). This does not\n",
       "    otherwise influence how the regression is estimated or drawn.    \n",
       "seed : int, numpy.random.Generator, or numpy.random.RandomState, optional\n",
       "    Seed or random number generator for reproducible bootstrapping.    \n",
       "order : int, optional\n",
       "    If ``order`` is greater than 1, use ``numpy.polyfit`` to estimate a\n",
       "    polynomial regression.    \n",
       "logistic : bool, optional\n",
       "    If ``True``, assume that ``y`` is a binary variable and use\n",
       "    ``statsmodels`` to estimate a logistic regression model. Note that this\n",
       "    is substantially more computationally intensive than linear regression,\n",
       "    so you may wish to decrease the number of bootstrap resamples\n",
       "    (``n_boot``) or set ``ci`` to None.    \n",
       "lowess : bool, optional\n",
       "    If ``True``, use ``statsmodels`` to estimate a nonparametric lowess\n",
       "    model (locally weighted linear regression). Note that confidence\n",
       "    intervals cannot currently be drawn for this kind of model.    \n",
       "robust : bool, optional\n",
       "    If ``True``, use ``statsmodels`` to estimate a robust regression. This\n",
       "    will de-weight outliers. Note that this is substantially more\n",
       "    computationally intensive than standard linear regression, so you may\n",
       "    wish to decrease the number of bootstrap resamples (``n_boot``) or set\n",
       "    ``ci`` to None.    \n",
       "logx : bool, optional\n",
       "    If ``True``, estimate a linear regression of the form y ~ log(x), but\n",
       "    plot the scatterplot and regression model in the input space. Note that\n",
       "    ``x`` must be positive for this to work.    \n",
       "{x,y}_partial : strings in ``data`` or matrices\n",
       "    Confounding variables to regress out of the ``x`` or ``y`` variables\n",
       "    before plotting.    \n",
       "truncate : bool, optional\n",
       "    If ``True``, the regression line is bounded by the data limits. If\n",
       "    ``False``, it extends to the ``x`` axis limits.\n",
       "\n",
       "{x,y}_jitter : floats, optional\n",
       "    Add uniform random noise of this size to either the ``x`` or ``y``\n",
       "    variables. The noise is added to a copy of the data after fitting the\n",
       "    regression, and only influences the look of the scatterplot. This can\n",
       "    be helpful when plotting variables that take discrete values.    \n",
       "{scatter,line}_kws : dictionaries\n",
       "    Additional keyword arguments to pass to ``plt.scatter`` and\n",
       "    ``plt.plot``.    \n",
       "facet_kws : dict\n",
       "    Dictionary of keyword arguments for :class:`FacetGrid`.\n",
       "\n",
       "See Also\n",
       "--------\n",
       "regplot : Plot data and a conditional model fit.\n",
       "FacetGrid : Subplot grid for plotting conditional relationships.\n",
       "pairplot : Combine :func:`regplot` and :class:`PairGrid` (when used with\n",
       "           ``kind=\"reg\"``).\n",
       "\n",
       "Notes\n",
       "-----\n",
       "\n",
       "The :func:`regplot` and :func:`lmplot` functions are closely related, but\n",
       "the former is an axes-level function while the latter is a figure-level\n",
       "function that combines :func:`regplot` and :class:`FacetGrid`.    \n",
       "\n",
       "Examples\n",
       "--------\n",
       "\n",
       "These examples focus on basic regression model plots to exhibit the\n",
       "various faceting options; see the :func:`regplot` docs for demonstrations\n",
       "of the other options for plotting the data and models. There are also\n",
       "other examples for how to manipulate plot using the returned object on\n",
       "the :class:`FacetGrid` docs.\n",
       "\n",
       "Plot a simple linear relationship between two variables:\n",
       "\n",
       ".. plot::\n",
       "    :context: close-figs\n",
       "\n",
       "    >>> import seaborn as sns; sns.set_theme(color_codes=True)\n",
       "    >>> tips = sns.load_dataset(\"tips\")\n",
       "    >>> g = sns.lmplot(x=\"total_bill\", y=\"tip\", data=tips)\n",
       "\n",
       "Condition on a third variable and plot the levels in different colors:\n",
       "\n",
       ".. plot::\n",
       "    :context: close-figs\n",
       "\n",
       "    >>> g = sns.lmplot(x=\"total_bill\", y=\"tip\", hue=\"smoker\", data=tips)\n",
       "\n",
       "Use different markers as well as colors so the plot will reproduce to\n",
       "black-and-white more easily:\n",
       "\n",
       ".. plot::\n",
       "    :context: close-figs\n",
       "\n",
       "    >>> g = sns.lmplot(x=\"total_bill\", y=\"tip\", hue=\"smoker\", data=tips,\n",
       "    ...                markers=[\"o\", \"x\"])\n",
       "\n",
       "Use a different color palette:\n",
       "\n",
       ".. plot::\n",
       "    :context: close-figs\n",
       "\n",
       "    >>> g = sns.lmplot(x=\"total_bill\", y=\"tip\", hue=\"smoker\", data=tips,\n",
       "    ...                palette=\"Set1\")\n",
       "\n",
       "Map ``hue`` levels to colors with a dictionary:\n",
       "\n",
       ".. plot::\n",
       "    :context: close-figs\n",
       "\n",
       "    >>> g = sns.lmplot(x=\"total_bill\", y=\"tip\", hue=\"smoker\", data=tips,\n",
       "    ...                palette=dict(Yes=\"g\", No=\"m\"))\n",
       "\n",
       "Plot the levels of the third variable across different columns:\n",
       "\n",
       ".. plot::\n",
       "    :context: close-figs\n",
       "\n",
       "    >>> g = sns.lmplot(x=\"total_bill\", y=\"tip\", col=\"smoker\", data=tips)\n",
       "\n",
       "Change the height and aspect ratio of the facets:\n",
       "\n",
       ".. plot::\n",
       "    :context: close-figs\n",
       "\n",
       "    >>> g = sns.lmplot(x=\"size\", y=\"total_bill\", hue=\"day\", col=\"day\",\n",
       "    ...                data=tips, height=6, aspect=.4, x_jitter=.1)\n",
       "\n",
       "Wrap the levels of the column variable into multiple rows:\n",
       "\n",
       ".. plot::\n",
       "    :context: close-figs\n",
       "\n",
       "    >>> g = sns.lmplot(x=\"total_bill\", y=\"tip\", col=\"day\", hue=\"day\",\n",
       "    ...                data=tips, col_wrap=2, height=3)\n",
       "\n",
       "Condition on two variables to make a full grid:\n",
       "\n",
       ".. plot::\n",
       "    :context: close-figs\n",
       "\n",
       "    >>> g = sns.lmplot(x=\"total_bill\", y=\"tip\", row=\"sex\", col=\"time\",\n",
       "    ...                data=tips, height=3)\n",
       "\n",
       "Use methods on the returned :class:`FacetGrid` instance to further tweak\n",
       "the plot:\n",
       "\n",
       ".. plot::\n",
       "    :context: close-figs\n",
       "\n",
       "    >>> g = sns.lmplot(x=\"total_bill\", y=\"tip\", row=\"sex\", col=\"time\",\n",
       "    ...                data=tips, height=3)\n",
       "    >>> g = (g.set_axis_labels(\"Total bill (US Dollars)\", \"Tip\")\n",
       "    ...       .set(xlim=(0, 60), ylim=(0, 12),\n",
       "    ...            xticks=[10, 30, 50], yticks=[2, 6, 10])\n",
       "    ...       .fig.subplots_adjust(wspace=.02))\n",
       "\u001b[1;31mFile:\u001b[0m      c:\\users\\talha\\anaconda3\\lib\\site-packages\\seaborn\\regression.py\n",
       "\u001b[1;31mType:\u001b[0m      function\n"
      ]
     },
     "metadata": {},
     "output_type": "display_data"
    }
   ],
   "source": [
    "?sns.lmplot"
   ]
  },
  {
   "cell_type": "code",
   "execution_count": 33,
   "id": "da681225-bfcf-4971-a484-c8cb82767db9",
   "metadata": {
    "tags": []
   },
   "outputs": [
    {
     "data": {
      "image/png": "[encoded data removed]",
      "text/plain": [
       "<Figure size 772x720 with 4 Axes>"
      ]
     },
     "metadata": {
      "needs_background": "light"
     },
     "output_type": "display_data"
    }
   ],
   "source": [
    "sns.lmplot(data= df, x = \"total_bill\", y = \"tip\", hue= \"smoker\",col = \"time\",row = \"sex\");"
   ]
  },
  {
   "cell_type": "code",
   "execution_count": null,
   "id": "469db4c8-9412-426c-84ba-fd76e3c2fdec",
   "metadata": {},
   "outputs": [],
   "source": []
  }
 ],
 "metadata": {
  "kernelspec": {
   "display_name": "Python 3 (ipykernel)",
   "language": "python",
   "name": "python3"
  },
  "language_info": {
   "codemirror_mode": {
    "name": "ipython",
    "version": 3
   },
   "file_extension": ".py",
   "mimetype": "text/x-python",
   "name": "python",
   "nbconvert_exporter": "python",
   "pygments_lexer": "ipython3",
   "version": "3.9.12"
  }
 },
 "nbformat": 4,
 "nbformat_minor": 5
}
