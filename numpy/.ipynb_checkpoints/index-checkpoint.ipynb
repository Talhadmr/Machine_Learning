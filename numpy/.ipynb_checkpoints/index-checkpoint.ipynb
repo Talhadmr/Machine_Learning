{
 "cells": [
  {
   "cell_type": "code",
   "execution_count": 1,
   "id": "f4196737-8462-44c0-9b9b-291bfb65d2ac",
   "metadata": {},
   "outputs": [],
   "source": [
    "import numpy as np"
   ]
  },
  {
   "cell_type": "code",
   "execution_count": 11,
   "id": "7624ec5c-a7a7-4a38-92e9-0f8ecda93b2c",
   "metadata": {},
   "outputs": [],
   "source": [
    "arr = np.random.randint(0,10,(1,5))"
   ]
  },
  {
   "cell_type": "code",
   "execution_count": 12,
   "id": "e83eb405-14d1-417d-8f2a-5b8b634c5647",
   "metadata": {},
   "outputs": [
    {
     "data": {
      "text/plain": [
       "array([[2, 0, 4, 6, 4]])"
      ]
     },
     "execution_count": 12,
     "metadata": {},
     "output_type": "execute_result"
    }
   ],
   "source": [
    "arr"
   ]
  },
  {
   "cell_type": "code",
   "execution_count": 22,
   "id": "bbb2ed41-f260-4db5-a790-1bf9620abf1d",
   "metadata": {},
   "outputs": [
    {
     "data": {
      "text/plain": [
       "array([[4, 6, 4]])"
      ]
     },
     "execution_count": 22,
     "metadata": {},
     "output_type": "execute_result"
    }
   ],
   "source": [
    "a = arr[0:1,2:5]\n",
    "a"
   ]
  },
  {
   "cell_type": "markdown",
   "id": "d5b5481c-e71b-4a8b-b2d2-a6e43ed1e4c8",
   "metadata": {},
   "source": [
    "ilk : satırı temsil eder ikinci : sütunu temsil eder."
   ]
  },
  {
   "cell_type": "code",
   "execution_count": 24,
   "id": "c07899f4-402d-4778-b832-ebc9f5605830",
   "metadata": {},
   "outputs": [
    {
     "data": {
      "text/plain": [
       "array([[2, 1, 6, 6, 7],\n",
       "       [3, 5, 6, 9, 7],\n",
       "       [7, 6, 6, 3, 4]])"
      ]
     },
     "execution_count": 24,
     "metadata": {},
     "output_type": "execute_result"
    }
   ],
   "source": [
    "arr = np.random.randint(0,10,(3,5))\n",
    "arr"
   ]
  },
  {
   "cell_type": "code",
   "execution_count": 25,
   "id": "13f2215a-2124-44a4-9026-217e5918b003",
   "metadata": {},
   "outputs": [
    {
     "data": {
      "text/plain": [
       "array([[1, 6],\n",
       "       [5, 6]])"
      ]
     },
     "execution_count": 25,
     "metadata": {},
     "output_type": "execute_result"
    }
   ],
   "source": [
    "a = arr[0:2,1:3]\n",
    "a"
   ]
  },
  {
   "cell_type": "code",
   "execution_count": 27,
   "id": "c9540ccb-37c3-4446-9a7d-ef455898f033",
   "metadata": {},
   "outputs": [
    {
     "data": {
      "text/plain": [
       "array([[ 4, 24],\n",
       "       [20, 24]])"
      ]
     },
     "execution_count": 27,
     "metadata": {},
     "output_type": "execute_result"
    }
   ],
   "source": [
    "a = a*2\n",
    "a"
   ]
  },
  {
   "cell_type": "code",
   "execution_count": 28,
   "id": "aa53e90c-6155-4490-8279-5d88e1220e42",
   "metadata": {},
   "outputs": [
    {
     "data": {
      "text/plain": [
       "array([[2, 1, 6, 6, 7],\n",
       "       [3, 5, 6, 9, 7],\n",
       "       [7, 6, 6, 3, 4]])"
      ]
     },
     "execution_count": 28,
     "metadata": {},
     "output_type": "execute_result"
    }
   ],
   "source": [
    "arr"
   ]
  },
  {
   "cell_type": "markdown",
   "id": "b85b191a-5f39-48bf-b6ed-54fe0cd68462",
   "metadata": {},
   "source": [
    "# Fancy "
   ]
  },
  {
   "cell_type": "code",
   "execution_count": 29,
   "id": "40384b3a-aaf7-40f5-aa46-d273dcbf764d",
   "metadata": {},
   "outputs": [],
   "source": [
    "getir = [1,3,4]"
   ]
  },
  {
   "cell_type": "code",
   "execution_count": 33,
   "id": "a3d99e93-4a2a-4669-bdf3-dd6c16ad2ab0",
   "metadata": {},
   "outputs": [
    {
     "data": {
      "text/plain": [
       "array([1, 6, 7])"
      ]
     },
     "execution_count": 33,
     "metadata": {},
     "output_type": "execute_result"
    }
   ],
   "source": [
    "c = arr[0,getir]\n",
    "c"
   ]
  },
  {
   "cell_type": "code",
   "execution_count": null,
   "id": "17714371-63f2-416e-90b8-efbbf6f63d3b",
   "metadata": {},
   "outputs": [],
   "source": []
  },
  {
   "cell_type": "code",
   "execution_count": null,
   "id": "4f7db772-51d0-4452-a3ec-d2fc641e83b2",
   "metadata": {},
   "outputs": [],
   "source": []
  }
 ],
 "metadata": {
  "kernelspec": {
   "display_name": "Python 3 (ipykernel)",
   "language": "python",
   "name": "python3"
  },
  "language_info": {
   "codemirror_mode": {
    "name": "ipython",
    "version": 3
   },
   "file_extension": ".py",
   "mimetype": "text/x-python",
   "name": "python",
   "nbconvert_exporter": "python",
   "pygments_lexer": "ipython3",
   "version": "3.9.12"
  }
 },
 "nbformat": 4,
 "nbformat_minor": 5
}
